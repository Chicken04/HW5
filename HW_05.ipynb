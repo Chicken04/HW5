{
 "cells": [
  {
   "cell_type": "markdown",
   "metadata": {},
   "source": [
    "# Computer Homework 5: Numerical solutions to $RC$ circuits\n",
    "This week, you've learned about resistors, capacitors, and the current that passes through these circuits.  This coming week, you will see how combining these elements can lead to interesting time dependence, specifically when we put resistors and capacitors in series with one another.  Most simple circuits can be solved using a variety of techniques.  As circuits become more complicated, or as the signals the circuits are processing become more complicated, finding an exact solution can become more difficult.  \n",
    "\n",
    "In yesterday's class, we learned in class that\n",
    "\\begin{equation}\n",
    "I = \\frac {dQ} {dt}\n",
    "\\end{equation}\n",
    "\n",
    "This simple definition implies that many circuits can be expressed in the language of differential equations. The purpose of this assignment is to learn how to solve these equations numerically. \n",
    "\n",
    "Consider a first-order equations of the form:\n",
    "\\begin{equation}\n",
    "\\frac {dx} {dt} = f(x,t).\n",
    "\\end{equation}\n",
    "\n",
    "The solution to this equation is a function $x(t)$ whose first derivative is $f$.\n",
    "To find the solution to such an equation, we also need boundary conditions, or starting points.  Suppose that we have a first-order differential equation and know the value of $x$ for some specific time $t$, that is we know $x(t)$.  The we can write the value of x some short time later as\n",
    "\\begin{equation}\n",
    "x(t+h) = x(t) + h \\frac {dx} {dt} + \\frac 1 2 h^2 \\frac {d^2x} {dt^2} + ...\n",
    "\\end{equation}\n",
    "\n",
    "\\begin{equation}\n",
    "x(t+h) = x(t) + h f(x,t) + h^2 \\frac {df(x,t)} {dt} + ...\n",
    "\\end{equation}\n",
    "\n",
    "If $h$ is small then $h^2$ is really small, and we can ignore it, and all higher terms of $h^n$.  This technique is called Euler's method.\n",
    "\n",
    "Using this, if we know the value of $x$ at some time $t$ we can find the value at some short time later.  We can then repeat this process and understand how $x$ changes over time. The set of $x$ values at a discrete set of $t$ values is the numerical solution to our differential equation.\n",
    "\n",
    "We are going to use this method to find the current, voltages and charges in simple circuits.  We will start with circuits which are easy to solve analytically so we can verify the numerical solution. Later we'll consider circuits that are a little more difficult.\n"
   ]
  },
  {
   "cell_type": "markdown",
   "metadata": {},
   "source": [
    "## Import the usual libraries"
   ]
  },
  {
   "cell_type": "code",
   "execution_count": 1,
   "metadata": {},
   "outputs": [],
   "source": [
    "import numpy as np                         # numpy is a library that inclues most of the numerical funciton you will need\n",
    "import matplotlib.pyplot as plt            # this is the library we use to plot"
   ]
  },
  {
   "cell_type": "markdown",
   "metadata": {},
   "source": [
    "## Example from Mechanics: the Simple Harmonic Oscillator\n",
    "\n",
    "To illustrate these ideas, let's work out the solution to a situation with which you are already familiar: the simple harmonic oscillator, e.g. a mass on a spring:\n",
    "<img src=\"http://www-personal.umich.edu/~gerdes/img/SHO.png\" height=\"300\" align=\"center\">\n",
    "This system is described by Newton's second law:\n",
    "$$\n",
    "    F = ma = m\\frac{d^2x}{dt^2}= -kx.\n",
    "$$\n",
    "\n",
    "This is a second-order differential equation (it relates the function $x(t)$ to its second derivative), so we need to specify two boundary conditions. In mechanics, boundary conditions are often the initial position and velocity. \n",
    "\n",
    "Let's suppose that the mass starts from rest at $x=1$. We know that the solution to Newton's second law is\n",
    "\\begin{eqnarray}\n",
    "        x(t)& = & A\\cos\\omega t \\\\\n",
    "        v(t) & = &-A\\omega\\sin\\omega t \\\\\n",
    "        a(t)& = &-A\\omega^2\\cos\\omega t,\n",
    "\\end{eqnarray}\n",
    "where $\\omega = \\sqrt{k/m}$, and in this case $A=1$.\n",
    "\n",
    "In discrete form, our equations look like:\n",
    "$$\n",
    "    \\Delta v = a\\Delta t,\n",
    "$$\n",
    "$$\n",
    "    \\Delta x = v\\Delta t.\n",
    "$$\n",
    "\n",
    "Let us also assume that there is some viscous damping or friction that the mass experiences leading to a damping term, $cv$, that manifests in Newton's 2nd law as,\n",
    "\\begin{eqnarray}\n",
    "    m\\frac{d^2x}{dt^2}+c\\frac{dx}{dt}+kx = 0\\\\\n",
    "    ma + cv + kx = 0\n",
    "\\end{eqnarray}\n",
    "\n",
    "Note, the acceleration depends on both the position and velocity as,\n",
    "\\begin{eqnarray}\n",
    "    a = -cv/m - \\omega x\n",
    "\\end{eqnarray}\n",
    "\n",
    "Since it is a damping term, let us consider a damping coefficient of $c/m=0.1$.  To later test our code for a frictionless surface, we can set $c/m = 0$.\n",
    "\n",
    "Then we can proceed as follows:"
   ]
  },
  {
   "cell_type": "markdown",
   "metadata": {},
   "source": [
    "### First, we define constants that set up the problem, m, k, and initial state $x_0$, and $v_0$ "
   ]
  },
  {
   "cell_type": "code",
   "execution_count": 35,
   "metadata": {},
   "outputs": [],
   "source": [
    "m = 1 # Mass\n",
    "k = 1 # Spring Constant\n",
    "\n",
    "# Initial position and velocity.\n",
    "x0 = 1\n",
    "v0 = 0\n",
    "\n",
    "# Damping term\n",
    "c = 0.1"
   ]
  },
  {
   "cell_type": "markdown",
   "metadata": {},
   "source": [
    "### Set up constants in the relevant equations based on constants above (2min) \n",
    "- $\\omega(k,m)$ (frequency) and \n",
    "- $T(\\omega) = 2\\pi/\\omega$ (period, which is a function of frequency):\n"
   ]
  },
  {
   "cell_type": "code",
   "execution_count": 36,
   "metadata": {},
   "outputs": [],
   "source": [
    "# Your code here\n",
    "omega = np.sqrt(k/m)\n",
    "T = 2*np.pi/omega"
   ]
  },
  {
   "cell_type": "markdown",
   "metadata": {},
   "source": [
    "### Next, we set up some python object that provide structure to integrate this problem over several timesteps.  Ultimately, we'll want $x(t)$, $v(t)$, $a(t)$.  Each timestep, $dt$ should be small compared with the period so an entire period is relatively well-resolved.  Note, here, resolution refers to *time* resolution.  In the past, we've considered *spatial* resolution.  (2 min)\n",
    "- Define dt in terms of the period (suggestion, perhaps 100 timesteps per period), and \n",
    "- Use the np.arange() method to create an array of timesteps varying from 0 though 5 periods with timestep increments of dt."
   ]
  },
  {
   "cell_type": "code",
   "execution_count": 37,
   "metadata": {},
   "outputs": [],
   "source": [
    "# Set up some constants to integrate the problem over some number of timesteps.  The timestep should be small \n",
    "#    compared with the period\n",
    "dt = T/1000\n",
    "timesteps = np.arange(0, 5*T, dt)"
   ]
  },
  {
   "cell_type": "markdown",
   "metadata": {},
   "source": [
    "### Since we will want x(t), v(t), and a(t), we will want as many values of each (i.e. the same shape of each) as the number of timesteps.  (5 min)\n",
    "- Use the np.zeros() method, and information about the shape of timesteps to create an xarray, varray, and aarray:"
   ]
  },
  {
   "cell_type": "code",
   "execution_count": 38,
   "metadata": {},
   "outputs": [],
   "source": [
    "# Set up arrays to store x(t), v(t), and a(t), which will hold the values of x, v, and a at each time step.\n",
    "xarray = np.zeros(np.shape(timesteps))\n",
    "varray = np.zeros(np.shape(timesteps))\n",
    "aarray = np.zeros(np.shape(timesteps))"
   ]
  },
  {
   "cell_type": "code",
   "execution_count": 39,
   "metadata": {},
   "outputs": [],
   "source": [
    "# Initialize an x and v, which will fill your xarray and yarray.\n",
    "x = x0\n",
    "v = v0"
   ]
  },
  {
   "cell_type": "code",
   "execution_count": 40,
   "metadata": {},
   "outputs": [],
   "source": [
    "# Main loop over timesteps here\n",
    "for inum, timestep in enumerate(timesteps):  #  Access iteration number and corresponding timestep\n",
    "    # print(inum, timestep) --> access inum-th index\n",
    "    \n",
    "    a = -c*v - k * x\n",
    "    \n",
    "    # Populate\n",
    "    aarray[inum] = a\n",
    "    xarray[inum] = x\n",
    "    varray[inum] = v\n",
    "\n",
    "    # Update\n",
    "    v = v + a*dt\n",
    "    x = x + v*dt\n"
   ]
  },
  {
   "cell_type": "markdown",
   "metadata": {},
   "source": [
    "### Let's make a plot.  (5min)\n",
    "- First, initialize a figure with three axes set up as a 3x1\n",
    "Now we can plot our results for $x$, $v$, and $a$. Do the results look like what you expect?"
   ]
  },
  {
   "cell_type": "code",
   "execution_count": 41,
   "metadata": {},
   "outputs": [
    {
     "data": {
      "text/plain": [
       "Text(0.5,0,'Time in units of period')"
      ]
     },
     "execution_count": 41,
     "metadata": {},
     "output_type": "execute_result"
    },
    {
     "data": {
      "image/png": "[encoded data removed]",
      "text/plain": [
       "<Figure size 576x648 with 3 Axes>"
      ]
     },
     "metadata": {},
     "output_type": "display_data"
    }
   ],
   "source": [
    "fig, (ax1, ax2, ax3) = plt.subplots(3,1, figsize=(8,9))\n",
    "fig.suptitle('Simple Harmonic Oscillator', fontsize=18)\n",
    "ax1.plot(timesteps/T, xarray, color='b')\n",
    "ax1.grid()\n",
    "ax1.set_ylabel('position [m]', fontsize=14)\n",
    "ax2.plot(timesteps/T, varray, color='r')\n",
    "ax2.grid()\n",
    "ax2.set_ylabel('velocity [m/s]', fontsize=14)\n",
    "ax3.plot(timesteps/T, aarray, color='g')\n",
    "ax3.grid()\n",
    "ax3.set_ylabel('acceleration [m/s$^2$]', fontsize=14)\n",
    "ax3.set_xlabel('Time in units of period', fontsize=16)"
   ]
  },
  {
   "cell_type": "markdown",
   "metadata": {},
   "source": [
    "### We can minimize code by using the zip() built-in method to group the axes, y-label, and y-values, then iterating over each grouping.\n",
    "- Next, zip the three axes, the y-labels, and the y-values.  Identify the \"redundant lines\" and plot in a for loop. \n"
   ]
  },
  {
   "cell_type": "code",
   "execution_count": 44,
   "metadata": {},
   "outputs": [
    {
     "name": "stdout",
     "output_type": "stream",
     "text": [
      "1\n",
      "one\n",
      "I\n",
      "2\n",
      "two\n",
      "II\n",
      "3\n",
      "three\n",
      "III\n",
      "5\n",
      "five\n",
      "V\n"
     ]
    }
   ],
   "source": [
    "# Plotting code using the zip() built-in method here\n",
    "mynums = np.array([1,2,3,5])\n",
    "mywords = np.array(['one','two','three','five'])\n",
    "myromannums = np.array(['I','II','III','V'])\n",
    "\n",
    "for mynum, myword, myromannum in zip(mynums,mywords, myromannums) :\n",
    "    print(mynum)\n",
    "    print(myword)\n",
    "    print(myromannum)"
   ]
  },
  {
   "cell_type": "code",
   "execution_count": 47,
   "metadata": {},
   "outputs": [
    {
     "name": "stdout",
     "output_type": "stream",
     "text": [
      "1\n",
      "one\n"
     ]
    }
   ],
   "source": [
    "for ax, yarray in zip([1,2],['one']) :\n",
    "    print(ax)\n",
    "    print(yarray)"
   ]
  },
  {
   "cell_type": "markdown",
   "metadata": {
    "collapsed": true
   },
   "source": [
    "## Your assignment Due Friday Feb 14\n",
    "\n",
    "Apply these techniques to calculate the currents and voltages in circuits with a resistor, capacitor and voltage source.  The voltage and current through a resistor is given by $V=IR$, the voltage across a capacitor is given by $V=Q/C$ and the voltage from a battery is just $V$."
   ]
  },
  {
   "cell_type": "markdown",
   "metadata": {},
   "source": [
    "### Part 1 (15 points) Calculate the discharge of a capacitor through a resistor.\n",
    "The capacitor will have some initial charge $Q$ based on the initial voltage on the capacitor, $V_0=10$ V, and the capacitance, $C = 20\\times10^{-06}$ Farads.  The rate of discharge will be the current through the capacitor $\\frac {dQ} {dt}$, which will depend on the value of the resistance, $R_1=10 \\Omega$.  \n",
    "<img src=\"http://www-personal.umich.edu/~gerdes/img/MC-PythonCircuit01.png\" height=\"400\" width=\"400\">\n",
    "Setup three one-dimensional arrays, one for the time, one for the current in the circuit and one for the charge on the capacitor.  Since the current in the capacitor must be the same as the current in the resistor, we have\n",
    "\\begin{equation}\n",
    "\\frac {dQ} {dt} = I = \\frac V R\n",
    "\\end{equation}\n",
    "and\n",
    "\\begin{equation}\n",
    " V = \\frac Q C\n",
    "\\end{equation}\n",
    "\n",
    "\n",
    "Thus, we have our simple first order differential equation\n",
    "\\begin{equation}\n",
    "\\frac {dQ} {dt} = \\frac Q {RC}\n",
    "\\end{equation}\n",
    "\n",
    "Turning this into a discrete expression, we get \n",
    "\\begin{equation}\n",
    "\\Delta Q = \\frac Q {RC} \\Delta t\n",
    "\\end{equation}\n",
    "\n",
    "So, choose values for $R$, $C$ and the initial charge $Q$.  Then pick an appropriate time step $\\Delta t$.  For each time step calculate the change in charge, $\\Delta Q$, and the corresponding current through the resistor and total charge on the capacitor.  Then subtract this $\\Delta Q$ from the charge on the capacitor and repeat the process.\n",
    "\n",
    "* Plot the current through the resistor and the charge on the capacitor as a function of time. Try making your plots on both a linear and a semilogy scale to verify that the behavior is exponential.\n",
    "\n",
    "* Use your program to compute the total amount of energy dissipated in the resistor, and show that it's equal to the initial stored energy in the capacitor. \n"
   ]
  },
  {
   "cell_type": "markdown",
   "metadata": {},
   "source": [
    "### First, we define constants that set up the problem, R, C, $V_0$."
   ]
  },
  {
   "cell_type": "code",
   "execution_count": null,
   "metadata": {},
   "outputs": [],
   "source": [
    "# Your code goes here.  First, define your constants - R, C, V0"
   ]
  },
  {
   "cell_type": "markdown",
   "metadata": {},
   "source": [
    "### Next, set up constants based on above: $Q_0(C, V_0)$, $RC(R, C)$ (this is the equivalent of T in the harmonic oscillator and provides a characteristic timescale), and $U_{cap}(C, V_0)$ (the energy stored in the capacitor)."
   ]
  },
  {
   "cell_type": "code",
   "execution_count": null,
   "metadata": {},
   "outputs": [],
   "source": [
    "#  Define constants here and calculate the energy stored in the capacitor based on other constants"
   ]
  },
  {
   "cell_type": "markdown",
   "metadata": {},
   "source": [
    "### Define your timesteps using np.arange, keeping in mind that you want small timesteps compared with the period of oscillation."
   ]
  },
  {
   "cell_type": "code",
   "execution_count": null,
   "metadata": {},
   "outputs": [],
   "source": [
    "# Timestep definition here"
   ]
  },
  {
   "cell_type": "markdown",
   "metadata": {},
   "source": [
    "### Now, we will want $Q(t)$, $I(t)$, and $P_{R}(t)$ (power dissipated by the resistor), and as many values of each (i.e. the same shape of each) as the number of timesteps."
   ]
  },
  {
   "cell_type": "code",
   "execution_count": null,
   "metadata": {},
   "outputs": [],
   "source": [
    "# Create arrays for charge, current, and power dissipated at each timestep: e.g. qarray, iarray, parray"
   ]
  },
  {
   "cell_type": "markdown",
   "metadata": {},
   "source": [
    "### In the next cell, we iterate (loop) over timesteps to calculate the charge, current, and power dissipated by the resistor  at each timestep.\n",
    "- Before starting the loop, you'll need to set Q and I to the initial states $Q_0$ and $I_0=Q_0/RC$. The Q and I variables will change within the loop and populate the qarray and iarray, and power dissipated is $P=I^2R$ "
   ]
  },
  {
   "cell_type": "code",
   "execution_count": null,
   "metadata": {},
   "outputs": [],
   "source": [
    "# Set initial charge and current for first timestep"
   ]
  },
  {
   "cell_type": "markdown",
   "metadata": {},
   "source": [
    "- Here, you will want to loop through the timesteps keeping track of the number of iterations, inum (see example from class).  At each timestep, you'll populate the qarray, iarray, and parray at that inum, then update Q due to because of discharge in capacitor at that timestep, and update I due to the new total charge on the capacitor plate."
   ]
  },
  {
   "cell_type": "code",
   "execution_count": null,
   "metadata": {},
   "outputs": [],
   "source": [
    "# Main loop over timesteps here"
   ]
  },
  {
   "cell_type": "markdown",
   "metadata": {},
   "source": [
    "### Perform your quick computation of total power dissipated by the resistor.  Compare this with the energy stored in the capacitor that you calculated earlier, $U_{cap}$."
   ]
  },
  {
   "cell_type": "code",
   "execution_count": null,
   "metadata": {},
   "outputs": [],
   "source": [
    "# Hint: You'll want to sum over power dissipated at the end of each timestep. \n",
    "#   Remember that power is energy/time "
   ]
  },
  {
   "cell_type": "markdown",
   "metadata": {},
   "source": [
    "### Plot the charge on the capacitor and the current as a function of time below.  "
   ]
  },
  {
   "cell_type": "code",
   "execution_count": null,
   "metadata": {},
   "outputs": [],
   "source": [
    "#  Plot here, try using the subplots as we did in the example.  But, this time with a 2x1 set of axes. "
   ]
  },
  {
   "cell_type": "markdown",
   "metadata": {},
   "source": [
    "Write your explanation here. Be sure to discuss the agreement of your solution with the analytic solution, and explain why the time step you chose is adequate. "
   ]
  },
  {
   "cell_type": "markdown",
   "metadata": {},
   "source": [
    "### Part 2 (15 points) Calculate the charge on a capacitor from a battery through a resistor.\n",
    "This is very similar to Part 1 - essentially only the boundary conditions have changed.  \n",
    "<img src=\"http://www-personal.umich.edu/~gerdes/img/MC-PythonCircuit02.png\" height=\"400\" width=\"400\">\n",
    "The capacitor will start with no charge on the plates, and it will be charged from the battery.  The inital voltage across the capacitor is then zero, and the initial current through the resistor will be $I = \\frac {V_b} {R}$ where $V_b$ is the voltage of the battery.\n",
    "\n",
    "* Write down the differential equation which includes this initial condition, and solve numerically.  Plot the current through the resistor and the charge on the capacitor as a function of time.\n",
    "\n",
    "* Compute and plot the power delivered by the battery to the circuit as a function of time. When is the battery delivering the most power to the circuit?\n",
    "\n",
    "* Compute the total energy delivered by the battery to the circuit. What fraction of this energy is stored in the capacitor, and what fraction is dissipated as heat in the resistor? Does your answer to the last question depend on the values of $R$ and $C$?\n",
    "\n",
    "Keep the loop rule in mind,\n",
    "\\begin{eqnarray}\n",
    "V - IR - Q/C = 0\n",
    "\\end{eqnarray}"
   ]
  },
  {
   "cell_type": "markdown",
   "metadata": {},
   "source": [
    "### Set your constants for the problem here: \n",
    "$R_1 = 2\\Omega$, $C_1 = 20e-06$ Farad, $V_b=5$V, $Q_0=0$."
   ]
  },
  {
   "cell_type": "code",
   "execution_count": null,
   "metadata": {},
   "outputs": [],
   "source": [
    "# Set constants here"
   ]
  },
  {
   "cell_type": "markdown",
   "metadata": {},
   "source": [
    "###  Set additional constants based on above here"
   ]
  },
  {
   "cell_type": "code",
   "execution_count": null,
   "metadata": {},
   "outputs": [],
   "source": [
    "#  This would be your RC, and define timesteps here"
   ]
  },
  {
   "cell_type": "markdown",
   "metadata": {},
   "source": [
    "### Set up the arrays to store charge, current, power dissipated by resistor, and power dissipated by the battery here.  Note, these must have the same size as the timesteps array."
   ]
  },
  {
   "cell_type": "code",
   "execution_count": null,
   "metadata": {},
   "outputs": [],
   "source": [
    "#  Set up arrays, e.g. qarray, iarray, prarray, pbarray"
   ]
  },
  {
   "cell_type": "markdown",
   "metadata": {},
   "source": [
    "### Here, you will want to loop over timesteps as before, but keep in mind that you are also delivering power from the battery"
   ]
  },
  {
   "cell_type": "code",
   "execution_count": null,
   "metadata": {},
   "outputs": [],
   "source": [
    "#  First, initialize the variables that will be updated.  Then, write main loop here"
   ]
  },
  {
   "cell_type": "markdown",
   "metadata": {},
   "source": [
    "### Calculate and compare values of total energy delivered, stored on the capacitor, dissipated by the resistor, and use this information to figure out the efficiency of the system."
   ]
  },
  {
   "cell_type": "code",
   "execution_count": null,
   "metadata": {},
   "outputs": [],
   "source": [
    "#  Your calculations here"
   ]
  },
  {
   "cell_type": "markdown",
   "metadata": {},
   "source": [
    "### Plot the charge on capacitor, current, and power delivered here."
   ]
  },
  {
   "cell_type": "code",
   "execution_count": null,
   "metadata": {},
   "outputs": [],
   "source": [
    "#  Plotting code here"
   ]
  },
  {
   "cell_type": "markdown",
   "metadata": {},
   "source": [
    "Write your explanation and comments here."
   ]
  },
  {
   "cell_type": "markdown",
   "metadata": {},
   "source": [
    "### Part 3 (10 pts) Essay question\n",
    "\n",
    "You have now solved a simple first order differential equation numerically.  You have solved this kind of an equation analytically (e.g. the spring problem).  Which is easier?  What are the advantages and disadvantages of each method?  Note, if you struggled through the previous problems of the homeowrk, base your essay question on the Example with the Harmonic Oscillator with a spring. **You can still receive full points on this essay question** if you do not have full answers for the first two parts."
   ]
  },
  {
   "cell_type": "code",
   "execution_count": null,
   "metadata": {},
   "outputs": [],
   "source": []
  }
 ],
 "metadata": {
  "anaconda-cloud": {},
  "kernelspec": {
   "display_name": "Python 3",
   "language": "python",
   "name": "python3"
  },
  "language_info": {
   "codemirror_mode": {
    "name": "ipython",
    "version": 3
   },
   "file_extension": ".py",
   "mimetype": "text/x-python",
   "name": "python",
   "nbconvert_exporter": "python",
   "pygments_lexer": "ipython3",
   "version": "3.6.5"
  }
 },
 "nbformat": 4,
 "nbformat_minor": 1
}
